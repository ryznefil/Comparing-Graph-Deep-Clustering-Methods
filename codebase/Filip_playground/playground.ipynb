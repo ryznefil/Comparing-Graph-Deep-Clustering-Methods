{
 "cells": [
  {
   "cell_type": "code",
   "execution_count": 1,
   "metadata": {
    "collapsed": true
   },
   "outputs": [],
   "source": [
    "from matplotlib.cm import get_cmap\n",
    "from matplotlib import pyplot as plt\n",
    "import networkx as nx\n",
    "import numpy as np\n",
    "import os\n",
    "import pickle\n",
    "\n",
    "\n",
    "#For saving results\n",
    "data_dir = os.path.join((os.path.dirname(os.getcwd())), 'Data')\n",
    "\n",
    "#random seed\n",
    "SEED = 0\n",
    "\n",
    "#For plotting\n",
    "name = \"Accent_r\"\n",
    "\n",
    "cmap = get_cmap(name)\n",
    "colors = cmap.colors"
   ]
  },
  {
   "cell_type": "code",
   "execution_count": 7,
   "outputs": [],
   "source": [
    "from Main_Code_Repo import Utils\n",
    "\n",
    "g = Utils.unpickle_object(data_dir + '/toy_dataset.pkl')"
   ],
   "metadata": {
    "collapsed": false,
    "pycharm": {
     "name": "#%%\n"
    }
   }
  },
  {
   "cell_type": "code",
   "execution_count": 3,
   "outputs": [
    {
     "data": {
      "text/plain": "<networkx.classes.graph.Graph at 0x10ef25de0>"
     },
     "execution_count": 3,
     "metadata": {},
     "output_type": "execute_result"
    }
   ],
   "source": [],
   "metadata": {
    "collapsed": false,
    "pycharm": {
     "name": "#%%\n"
    }
   }
  },
  {
   "cell_type": "code",
   "execution_count": 10,
   "outputs": [],
   "source": [
    "from Main_Code_Repo.Non_DL_Methods import Louvain_algorithm\n",
    "\n",
    "a, b = Louvain_algorithm(g)"
   ],
   "metadata": {
    "collapsed": false,
    "pycharm": {
     "name": "#%%\n"
    }
   }
  },
  {
   "cell_type": "code",
   "execution_count": 18,
   "outputs": [
    {
     "data": {
      "text/plain": "3"
     },
     "execution_count": 18,
     "metadata": {},
     "output_type": "execute_result"
    }
   ],
   "source": [
    "len(g.graph['partition'])"
   ],
   "metadata": {
    "collapsed": false,
    "pycharm": {
     "name": "#%%\n"
    }
   }
  },
  {
   "cell_type": "code",
   "execution_count": 16,
   "outputs": [
    {
     "data": {
      "text/plain": "'/Users/ryznerf/Documents/0_MIT/Spring_2022/0_Projects/3_Networks_project/community-detetction-deep-learning/Data'"
     },
     "execution_count": 16,
     "metadata": {},
     "output_type": "execute_result"
    }
   ],
   "source": [
    "import os\n",
    "import Main_Code_Repo.Graph_generator as gd\n",
    "import Main_Code_Repo.Plotting as gplt\n",
    "import Main_Code_Repo.Utils as utils\n",
    "\n",
    "data_dir = os.path.join((os.path.dirname(os.getcwd())), 'Data')\n",
    "data_dir"
   ],
   "metadata": {
    "collapsed": false,
    "pycharm": {
     "name": "#%%\n"
    }
   }
  },
  {
   "cell_type": "code",
   "execution_count": 17,
   "outputs": [],
   "source": [
    "cluster_sizes = [300,300,300]\n",
    "p = 0.6\n",
    "q = 0.1\n",
    "\n",
    "g = gd.SBM_generator(cluster_sizes, p, q)\n",
    "utils.pickle_object(g, data_dir + '/test_case_1.pkl')\n"
   ],
   "metadata": {
    "collapsed": false,
    "pycharm": {
     "name": "#%%\n"
    }
   }
  },
  {
   "cell_type": "code",
   "execution_count": 18,
   "outputs": [],
   "source": [
    "cluster_sizes = [500,500,500]\n",
    "p = 0.65\n",
    "q = 0.15\n",
    "\n",
    "g = gd.SBM_generator(cluster_sizes, p, q)\n",
    "utils.pickle_object(g, data_dir + '/test_case_2.pkl')\n"
   ],
   "metadata": {
    "collapsed": false,
    "pycharm": {
     "name": "#%%\n"
    }
   }
  },
  {
   "cell_type": "code",
   "execution_count": 19,
   "outputs": [],
   "source": [
    "cluster_sizes = [100,100,200]\n",
    "p = 0.6\n",
    "q = 0.1\n",
    "\n",
    "g = gd.SBM_generator(cluster_sizes, p, q)\n",
    "utils.pickle_object(g, data_dir + '/test_case_3.pkl')"
   ],
   "metadata": {
    "collapsed": false,
    "pycharm": {
     "name": "#%%\n"
    }
   }
  },
  {
   "cell_type": "code",
   "execution_count": null,
   "outputs": [],
   "source": [],
   "metadata": {
    "collapsed": false,
    "pycharm": {
     "name": "#%%\n"
    }
   }
  }
 ],
 "metadata": {
  "kernelspec": {
   "display_name": "Python 3",
   "language": "python",
   "name": "python3"
  },
  "language_info": {
   "codemirror_mode": {
    "name": "ipython",
    "version": 2
   },
   "file_extension": ".py",
   "mimetype": "text/x-python",
   "name": "python",
   "nbconvert_exporter": "python",
   "pygments_lexer": "ipython2",
   "version": "2.7.6"
  }
 },
 "nbformat": 4,
 "nbformat_minor": 0
}